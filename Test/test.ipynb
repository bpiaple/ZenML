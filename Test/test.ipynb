{
 "cells": [
  {
   "cell_type": "code",
   "execution_count": 1,
   "metadata": {},
   "outputs": [],
   "source": [
    "import pandas as pd"
   ]
  },
  {
   "cell_type": "code",
   "execution_count": 21,
   "metadata": {},
   "outputs": [
    {
     "name": "stderr",
     "output_type": "stream",
     "text": [
      "/tmp/ipykernel_44279/3142247687.py:1: DtypeWarning: Columns (26,27,28,29) have mixed types. Specify dtype option on import or set low_memory=False.\n",
      "  df = pd.read_csv('/workspaces/ZenML/data/olist_customers_dataset.csv')\n"
     ]
    },
    {
     "name": "stderr",
     "output_type": "stream",
     "text": [
      "Bad pipe message: %s [b'\"Not)A;Brand\";v=\"99\", \"Google Chrome\";v=\"127\", \"Chromium\"']\n",
      "Bad pipe message: %s [b'=\"127\"\\r\\nsec-ch-ua-mobile: ?0\\r\\nsec-ch-ua-platform: \"Windows']\n",
      "Bad pipe message: %s [b'\\nDNT: 1\\r\\nUpgrade-Insecure-Request', b' 1\\r\\nUser-Agent: Mozilla/5.0 (Windows NT 10.0; Win64; x64) AppleWebKit/537.36 (KHTML, like Gecko) Chrome/127.0.0.0 ']\n",
      "Bad pipe message: %s [b'fari/537.36\\r\\nAccept: text/html,application/xhtml+xml,application/xml;q=0.9,image/a', b'f,image/webp,image/apng,*/*;q=0.8,application/signed-exchange;v=b3;q=0.7\\r\\nSec-Fetch-Site: none\\r\\nSec-Fetch-Mode: navig', b'e\\r\\nSec-Fetch-User: ?1\\r\\nSec-Fetch-Dest: document\\r\\nAccept-Encoding: gzip, deflate, br, zstd\\r\\nAccep']\n",
      "Bad pipe message: %s [b'ol: max-age=0\\r\\nsec-ch-ua: \"Not)A;Brand\";v=\"99\", \"Google Chrome\";v=\"127\", \"Chromium\";v=\"127\"\\r\\nsec-ch-ua-mobile: ?0\\r\\n']\n",
      "Bad pipe message: %s [b'c-ch-ua-platform: \"Windows\"\\r\\nDNT: 1\\r\\nUpgrade-Insecure-Requests: 1\\r\\nUser-Agent: Mozilla/5.0 (Windows NT 10.0; Win64', b'x64) AppleWebKit/537.36 (KHTML, like Gecko) Chrome/127.0.0']\n",
      "Bad pipe message: %s [b' Safari/537.36\\r\\nAccept: text/html,application']\n",
      "Bad pipe message: %s [b'html+xml,application/xml;q=0.9,image/avif,imag']\n",
      "Bad pipe message: %s [b'webp,image/apng,*/*;q=0.8,application/signed-exchange;v=b3;q=0.7\\r\\nSec-Fetch-Site: none\\r\\nSec-Fetch-Mo', b': navigate\\r\\nSec-Fetch-User: ?1\\r\\nSec-Fetch-Dest: document\\r\\nAccept-Encoding: gzip, deflate, br, zstd\\r', b'ccept-Lan', b'age: en-US,en;q=0.9,fr-CM;q=0.8,fr;q=0.7\\r\\nCookie: zenml-server-45ae91f6-1167-4cb6-af7d-4277bb01a3a5=ey', b'bGciOiJIUzI1NiIsInR5cCI6IkpXVCJ9.eyJzdWIiOiI4MmQ0MTcyZC0wNTQzLTQ4NWEtOGRj']\n",
      "Bad pipe message: %s [b'0wZDI2MWJkMmFhYWYiLCJpc3MiOiI0NWFlOTFmNi0xMTY3LTRjYjYtYWY3ZC00Mjc3YmIwMWEzYTU', b'CJhdWQiOiI0NWFlOTFmNi0xMTY3LTRjYjYtYWY3ZC00Mjc3YmIwMWEzYTUifQ.-teIwROd418KKE9-MvjNO_37PoaJWrbgasCmIjLhBU']\n",
      "Bad pipe message: %s [b'ol: max-age=0\\r\\nsec-ch-ua: \"Not)A;Brand\";v=\"99\", \"Google Chrome\";v=\"127\", \"Chromium\";v=\"127\"\\r\\nsec-ch-ua-mobile: ?0\\r\\n']\n",
      "Bad pipe message: %s [b'c-ch-ua-platform: \"Windows\"\\r\\nUpgrade-Insecure-Requests: 1\\r\\nDNT: 1\\r\\nUser-Agent: Mozilla/5.0 (Windows NT 10.0; Win64', b'x64) AppleWebKit/537.36 (KHTML, like Gecko) Chrome/127.0.0']\n",
      "Bad pipe message: %s [b' Safari/537.36\\r\\nAccept: text/html,application']\n",
      "Bad pipe message: %s [b'html+xml,application/xml;q=0.9,image/avif,imag']\n",
      "Bad pipe message: %s [b'webp,image/apng,*/*;q=0.8,application/signed-exchange;v=b3;q=0.7\\r\\nSec-Fetch-Site: cross-site\\r\\nSec-Fe', b'h-Mode: navigate\\r\\nSec-Fetch-User: ?1\\r\\nSec-Fetch-Dest: document\\r\\nAccept-Encoding: gzip, deflate, br, zstd\\r\\nAccept-La', b'uage: en-US,en;q=0.9,fr-CM;q=0.8,fr;q=0.7\\r\\nCookie: zenml-server-45ae91f6-1167-4cb6-af7d-4277bb01a3a5=eyJhbGci', b'JIUzI1NiIsInR5cCI6IkpXVCJ9.eyJzdWIiOiI4MmQ0MTcyZC0wNTQzLTQ4NWEtOGRjNi0wZDI2MWJ', b'mFhYWYiLCJpc3MiOiI0NWFlOTFmNi0xMTY3LTRjYjYtYWY3ZC00Mjc3YmIwMWEzYTUiLCJhdWQiOiI0NWFlOTFmNi0xMTY3LTRjYjYtYWY', b'C00Mjc3YmIwMWEzYTUifQ.-teIwROd418KKE9-MvjNO_37PoaJ']\n"
     ]
    }
   ],
   "source": [
    "df = pd.read_csv('/workspaces/ZenML/data/olist_customers_dataset.csv')"
   ]
  },
  {
   "cell_type": "code",
   "execution_count": 19,
   "metadata": {},
   "outputs": [],
   "source": [
    "df.columns = df.columns.str.strip()\n",
    "df = df.drop(\n",
    "                [\n",
    "                    \"order_purchase_timestamp\",\n",
    "                    \"order_approved_at\",\n",
    "                    \"order_delivered_carrier_date\",\n",
    "                    \"order_delivered_customer_date\",\n",
    "                    \"order_estimated_delivery_date\"\n",
    "                ],\n",
    "                axis=1\n",
    "            )"
   ]
  },
  {
   "cell_type": "code",
   "execution_count": 20,
   "metadata": {},
   "outputs": [
    {
     "data": {
      "text/plain": [
       "Index(['order_id', 'customer_id', 'order_status', 'payment_sequential',\n",
       "       'payment_type', 'payment_installments', 'payment_value',\n",
       "       'customer_unique_id', 'customer_zip_code_prefix', 'customer_city',\n",
       "       'customer_state', 'order_item_id', 'product_id', 'seller_id',\n",
       "       'shipping_limit_date', 'price', 'freight_value',\n",
       "       'product_category_name', 'product_name_lenght',\n",
       "       'product_description_lenght', 'product_photos_qty', 'product_weight_g',\n",
       "       'product_length_cm', 'product_height_cm', 'product_width_cm',\n",
       "       'product_category_name_english', 'review_score',\n",
       "       'review_comment_message'],\n",
       "      dtype='object')"
      ]
     },
     "execution_count": 20,
     "metadata": {},
     "output_type": "execute_result"
    }
   ],
   "source": [
    "df.columns"
   ]
  },
  {
   "cell_type": "code",
   "execution_count": null,
   "metadata": {},
   "outputs": [],
   "source": []
  }
 ],
 "metadata": {
  "kernelspec": {
   "display_name": "Python 3",
   "language": "python",
   "name": "python3"
  },
  "language_info": {
   "codemirror_mode": {
    "name": "ipython",
    "version": 3
   },
   "file_extension": ".py",
   "mimetype": "text/x-python",
   "name": "python",
   "nbconvert_exporter": "python",
   "pygments_lexer": "ipython3",
   "version": "3.8.10"
  }
 },
 "nbformat": 4,
 "nbformat_minor": 2
}
